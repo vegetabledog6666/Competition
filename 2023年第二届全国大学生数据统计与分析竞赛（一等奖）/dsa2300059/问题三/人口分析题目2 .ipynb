{
 "cells": [
  {
   "cell_type": "code",
   "execution_count": 2,
   "id": "55ad8d29",
   "metadata": {},
   "outputs": [],
   "source": [
    "#在Jupyter Notebook的Cell中显示多个输出\n",
    "\n",
    "from IPython.core.interactiveshell import InteractiveShell \n",
    "\n",
    "InteractiveShell.ast_node_interactivity = \"all\"\n",
    "\n",
    "%config InlineBackend.figure_format = \"retina\"\n",
    "\n",
    "import matplotlib.pyplot as plt\n",
    "\n",
    "import matplotlib as mpl\n",
    "\n",
    "import numpy as np\n",
    "\n",
    "plt.rcParams['font.sans-serif']=['SimHei']\n",
    "plt.rcParams['axes.unicode_minus']=False\n",
    "\n",
    "import pandas as pd\n",
    "\n",
    "import sympy\n",
    "\n",
    "#请比较 2021 年不同国家的总人口数，绘制不同国家总人口数的柱状图，并给出总人口最多的前 10 个国家和最少的后 10 个国家名单。"
   ]
  },
  {
   "cell_type": "code",
   "execution_count": 18,
   "id": "a3f0ac4d",
   "metadata": {},
   "outputs": [
    {
     "name": "stdout",
     "output_type": "stream",
     "text": [
      "<class 'pandas.core.frame.DataFrame'>\n",
      "RangeIndex: 16056 entries, 0 to 16055\n",
      "Data columns (total 3 columns):\n",
      " #   Column        Non-Null Count  Dtype \n",
      "---  ------        --------------  ----- \n",
      " 0   Country name  16056 non-null  object\n",
      " 1   Year          16056 non-null  int64 \n",
      " 2   Population    16056 non-null  int64 \n",
      "dtypes: int64(2), object(1)\n",
      "memory usage: 376.4+ KB\n"
     ]
    },
    {
     "data": {
      "text/html": [
       "<div>\n",
       "<style scoped>\n",
       "    .dataframe tbody tr th:only-of-type {\n",
       "        vertical-align: middle;\n",
       "    }\n",
       "\n",
       "    .dataframe tbody tr th {\n",
       "        vertical-align: top;\n",
       "    }\n",
       "\n",
       "    .dataframe thead th {\n",
       "        text-align: right;\n",
       "    }\n",
       "</style>\n",
       "<table border=\"1\" class=\"dataframe\">\n",
       "  <thead>\n",
       "    <tr style=\"text-align: right;\">\n",
       "      <th></th>\n",
       "      <th>Year</th>\n",
       "      <th>Population</th>\n",
       "    </tr>\n",
       "  </thead>\n",
       "  <tbody>\n",
       "    <tr>\n",
       "      <th>count</th>\n",
       "      <td>16056.000000</td>\n",
       "      <td>1.605600e+04</td>\n",
       "    </tr>\n",
       "    <tr>\n",
       "      <th>mean</th>\n",
       "      <td>1985.500000</td>\n",
       "      <td>2.235091e+07</td>\n",
       "    </tr>\n",
       "    <tr>\n",
       "      <th>std</th>\n",
       "      <td>20.783252</td>\n",
       "      <td>9.704896e+07</td>\n",
       "    </tr>\n",
       "    <tr>\n",
       "      <th>min</th>\n",
       "      <td>1950.000000</td>\n",
       "      <td>1.363000e+03</td>\n",
       "    </tr>\n",
       "    <tr>\n",
       "      <th>25%</th>\n",
       "      <td>1967.750000</td>\n",
       "      <td>3.270775e+05</td>\n",
       "    </tr>\n",
       "    <tr>\n",
       "      <th>50%</th>\n",
       "      <td>1985.500000</td>\n",
       "      <td>3.498426e+06</td>\n",
       "    </tr>\n",
       "    <tr>\n",
       "      <th>75%</th>\n",
       "      <td>2003.250000</td>\n",
       "      <td>1.133382e+07</td>\n",
       "    </tr>\n",
       "    <tr>\n",
       "      <th>max</th>\n",
       "      <td>2021.000000</td>\n",
       "      <td>1.425894e+09</td>\n",
       "    </tr>\n",
       "  </tbody>\n",
       "</table>\n",
       "</div>"
      ],
      "text/plain": [
       "               Year    Population\n",
       "count  16056.000000  1.605600e+04\n",
       "mean    1985.500000  2.235091e+07\n",
       "std       20.783252  9.704896e+07\n",
       "min     1950.000000  1.363000e+03\n",
       "25%     1967.750000  3.270775e+05\n",
       "50%     1985.500000  3.498426e+06\n",
       "75%     2003.250000  1.133382e+07\n",
       "max     2021.000000  1.425894e+09"
      ]
     },
     "execution_count": 18,
     "metadata": {},
     "output_type": "execute_result"
    }
   ],
   "source": [
    "data = pd.read_csv(\"各个国家人口数据.csv\")\n",
    "data.info()\n",
    "# data.head(20)\n",
    "data.describe()"
   ]
  },
  {
   "cell_type": "code",
   "execution_count": 28,
   "id": "ee53f214",
   "metadata": {},
   "outputs": [
    {
     "name": "stdout",
     "output_type": "stream",
     "text": [
      "<class 'pandas.core.frame.DataFrame'>\n",
      "Int64Index: 16056 entries, 0 to 16055\n",
      "Data columns (total 3 columns):\n",
      " #   Column        Non-Null Count  Dtype \n",
      "---  ------        --------------  ----- \n",
      " 0   Country name  16056 non-null  object\n",
      " 1   Year          16056 non-null  int64 \n",
      " 2   Population    16056 non-null  int64 \n",
      "dtypes: int64(2), object(1)\n",
      "memory usage: 501.8+ KB\n",
      "<class 'pandas.core.frame.DataFrame'>\n",
      "Int64Index: 223 entries, 71 to 16055\n",
      "Data columns (total 2 columns):\n",
      " #   Column        Non-Null Count  Dtype \n",
      "---  ------        --------------  ----- \n",
      " 0   Country name  223 non-null    object\n",
      " 1   Population    223 non-null    int64 \n",
      "dtypes: int64(1), object(1)\n",
      "memory usage: 5.2+ KB\n",
      "<class 'pandas.core.frame.DataFrame'>\n",
      "RangeIndex: 223 entries, 0 to 222\n",
      "Data columns (total 2 columns):\n",
      " #   Column        Non-Null Count  Dtype \n",
      "---  ------        --------------  ----- \n",
      " 0   Country name  223 non-null    object\n",
      " 1   Population    223 non-null    int64 \n",
      "dtypes: int64(1), object(1)\n",
      "memory usage: 3.6+ KB\n"
     ]
    },
    {
     "data": {
      "text/plain": [
       "0            China\n",
       "1            India\n",
       "2    United States\n",
       "3        Indonesia\n",
       "4         Pakistan\n",
       "5           Brazil\n",
       "6          Nigeria\n",
       "7       Bangladesh\n",
       "8           Russia\n",
       "9           Mexico\n",
       "Name: Country name, dtype: object"
      ]
     },
     "execution_count": 28,
     "metadata": {},
     "output_type": "execute_result"
    },
    {
     "data": {
      "text/plain": [
       "213                     Anguilla\n",
       "214                        Nauru\n",
       "215            Wallis and Futuna\n",
       "216                       Tuvalu\n",
       "217             Saint Barthelemy\n",
       "218    Saint Pierre and Miquelon\n",
       "219                 Saint Helena\n",
       "220                   Montserrat\n",
       "221                         Niue\n",
       "222                      Tokelau\n",
       "Name: Country name, dtype: object"
      ]
     },
     "execution_count": 28,
     "metadata": {},
     "output_type": "execute_result"
    }
   ],
   "source": [
    "data = pd.read_csv(\"各个国家人口数据.csv\")\n",
    "data.info()\n",
    "# data.head(20)\n",
    "data.describe()\n",
    "#数据清洗与格式化\n",
    "df = data\n",
    "df = df.drop_duplicates()  #删除完全重复的记录\n",
    "df.info()\n",
    "df = df[(df['Year'] == 2021)][['Country name','Population']]\n",
    "data = pd.read_csv(\"各个国家人口数据.csv\")\n",
    "data.info()\n",
    "\n",
    "\n",
    "df1 = df\n",
    "df1.info()\n",
    "df1.sort_values(\"Population\",inplace=True,ascending=False)\n",
    "df1 = df1.reset_index(drop=True)\n",
    "df1.to_csv('各国人口（降序）.csv',index = False)\n",
    "df1.info()\n",
    "df1.head(10)['Country name']\n",
    "df1.tail(10)['Country name']\n",
    "\n",
    "# df1"
   ]
  }
 ],
 "metadata": {
  "kernelspec": {
   "display_name": "Python 3 (ipykernel)",
   "language": "python",
   "name": "python3"
  },
  "language_info": {
   "codemirror_mode": {
    "name": "ipython",
    "version": 3
   },
   "file_extension": ".py",
   "mimetype": "text/x-python",
   "name": "python",
   "nbconvert_exporter": "python",
   "pygments_lexer": "ipython3",
   "version": "3.9.13"
  },
  "nbTranslate": {
   "displayLangs": [
    "*"
   ],
   "hotkey": "alt-t",
   "langInMainMenu": true,
   "sourceLang": "en",
   "targetLang": "fr",
   "useGoogleTranslate": true
  },
  "toc": {
   "base_numbering": 1,
   "nav_menu": {},
   "number_sections": true,
   "sideBar": true,
   "skip_h1_title": false,
   "title_cell": "Table of Contents",
   "title_sidebar": "Contents",
   "toc_cell": false,
   "toc_position": {},
   "toc_section_display": true,
   "toc_window_display": false
  }
 },
 "nbformat": 4,
 "nbformat_minor": 5
}
